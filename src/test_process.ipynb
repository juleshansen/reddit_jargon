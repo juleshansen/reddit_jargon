{
 "metadata": {
  "language_info": {
   "codemirror_mode": {
    "name": "ipython",
    "version": 3
   },
   "file_extension": ".py",
   "mimetype": "text/x-python",
   "name": "python",
   "nbconvert_exporter": "python",
   "pygments_lexer": "ipython3",
   "version": "3.7.7"
  },
  "orig_nbformat": 2,
  "kernelspec": {
   "name": "python37764bitbaseconda42db193651bf4e5fab9381b4edefb3d8",
   "display_name": "Python 3.7.7 64-bit ('base': conda)"
  },
  "metadata": {
   "interpreter": {
    "hash": "448eea69390e87439a5333a90a303e7024d2ba171b1cfbbf9a993ee52ea35a5d"
   }
  }
 },
 "nbformat": 4,
 "nbformat_minor": 2,
 "cells": [
  {
   "cell_type": "code",
   "execution_count": 1,
   "metadata": {},
   "outputs": [],
   "source": [
    "from nlprocessing import ProcessCorpus\n",
    "import pandas as pd\n",
    "from nltk.corpus import words\n",
    "import gensim"
   ]
  },
  {
   "source": [
    "data = pd.read_csv('../data/comments.csv', sep='|').dropna()\n",
    "test = data[data['subreddit'] == 'wallstreetbets']['text']"
   ],
   "cell_type": "code",
   "metadata": {},
   "execution_count": 2,
   "outputs": []
  },
  {
   "cell_type": "code",
   "execution_count": 4,
   "metadata": {},
   "outputs": [],
   "source": [
    "corpus = ProcessCorpus()\n",
    "corpus.fit(test, frequency=10)"
   ]
  },
  {
   "cell_type": "code",
   "execution_count": 8,
   "metadata": {},
   "outputs": [],
   "source": [
    "model = gensim.models.HdpModel(\n",
    "    corpus=corpus.gensim_corpus,\n",
    "    id2word=corpus.gensim_dictionary.id2token\n",
    ")"
   ]
  },
  {
   "cell_type": "code",
   "execution_count": 13,
   "metadata": {},
   "outputs": [
    {
     "output_type": "execute_result",
     "data": {
      "text/plain": [
       "[(0,\n",
       "  '0.058*gme + 0.012*I + 0.008*like + 0.007*stock + 0.007*going + 0.006*would + 0.006*get + 0.006*money + 0.005*buy + 0.005*call + 0.005*share + 0.005*market + 0.005*time + 0.005*go + 0.005*good + 0.005*people + 0.004*make + 0.004*think + 0.004*day + 0.004*one'),\n",
       " (1,\n",
       "  '0.007*I + 0.005*stock + 0.005*like + 0.004*market + 0.004*going + 0.004*get + 0.004*would + 0.004*company + 0.004*share + 0.003*year + 0.003*money + 0.003*people + 0.003*time + 0.003*go + 0.003*good + 0.003*price + 0.003*buy + 0.003*call + 0.003*think + 0.003*make'),\n",
       " (2,\n",
       "  '0.010*I + 0.006*like + 0.005*stock + 0.004*would + 0.004*get + 0.004*people + 0.004*going + 0.004*money + 0.004*market + 0.004*day + 0.003*call + 0.003*make + 0.003*go + 0.003*buy + 0.003*think + 0.003*time + 0.003*one + 0.003*good + 0.003*know + 0.003*put'),\n",
       " (3,\n",
       "  '0.008*I + 0.005*like + 0.004*going + 0.004*stock + 0.004*get + 0.004*would + 0.004*one + 0.003*people + 0.003*market + 0.003*go + 0.003*good + 0.003*money + 0.003*time + 0.003*buy + 0.003*think + 0.003*call + 0.003*year + 0.003*make + 0.002*day + 0.002*share'),\n",
       " (4,\n",
       "  '0.005*I + 0.003*like + 0.002*stock + 0.002*going + 0.002*would + 0.002*get + 0.002*call + 0.002*go + 0.002*buy + 0.002*money + 0.002*good + 0.002*people + 0.002*day + 0.002*also + 0.002*think + 0.002*time + 0.002*one + 0.002*market + 0.001*make + 0.001*gme'),\n",
       " (5,\n",
       "  '0.005*I + 0.003*like + 0.002*stock + 0.002*going + 0.002*get + 0.002*would + 0.002*buy + 0.002*money + 0.002*call + 0.002*day + 0.002*share + 0.002*go + 0.002*gme + 0.002*market + 0.002*time + 0.002*one + 0.002*good + 0.002*people + 0.002*think + 0.001*rkt'),\n",
       " (6,\n",
       "  '0.004*I + 0.003*like + 0.002*going + 0.002*stock + 0.002*get + 0.002*call + 0.002*would + 0.002*money + 0.002*buy + 0.002*go + 0.002*market + 0.001*good + 0.001*day + 0.001*rkt + 0.001*back + 0.001*one + 0.001*share + 0.001*time + 0.001*think + 0.001*put'),\n",
       " (7,\n",
       "  '0.004*I + 0.003*like + 0.002*going + 0.002*stock + 0.002*get + 0.002*call + 0.002*money + 0.002*buy + 0.002*would + 0.002*gme + 0.002*go + 0.001*one + 0.001*good + 0.001*market + 0.001*time + 0.001*people + 0.001*rkt + 0.001*think + 0.001*share + 0.001*make'),\n",
       " (8,\n",
       "  '0.004*I + 0.003*like + 0.002*going + 0.002*stock + 0.002*get + 0.002*call + 0.002*buy + 0.002*go + 0.002*would + 0.002*money + 0.002*gme + 0.001*market + 0.001*think + 0.001*people + 0.001*one + 0.001*time + 0.001*good + 0.001*day + 0.001*rkt + 0.001*shit'),\n",
       " (9,\n",
       "  '0.004*I + 0.003*like + 0.002*going + 0.002*got + 0.002*get + 0.002*stock + 0.002*would + 0.002*shit + 0.002*go + 0.002*money + 0.002*call + 0.002*buy + 0.001*one + 0.001*good + 0.001*make + 0.001*day + 0.001*gme + 0.001*people + 0.001*rkt + 0.001*put'),\n",
       " (10,\n",
       "  '0.004*I + 0.003*like + 0.002*stock + 0.002*going + 0.002*get + 0.002*call + 0.002*buy + 0.002*would + 0.002*go + 0.002*good + 0.001*money + 0.001*rkt + 0.001*market + 0.001*one + 0.001*day + 0.001*gme + 0.001*time + 0.001*people + 0.001*think + 0.001*put'),\n",
       " (11,\n",
       "  '0.004*I + 0.003*like + 0.002*going + 0.002*stock + 0.002*get + 0.002*call + 0.002*would + 0.002*buy + 0.002*go + 0.001*one + 0.001*money + 0.001*rkt + 0.001*gme + 0.001*day + 0.001*good + 0.001*market + 0.001*make + 0.001*think + 0.001*back + 0.001*people'),\n",
       " (12,\n",
       "  '0.004*I + 0.003*like + 0.002*going + 0.002*stock + 0.002*get + 0.002*would + 0.002*call + 0.001*buy + 0.001*go + 0.001*good + 0.001*money + 0.001*people + 0.001*think + 0.001*one + 0.001*shit + 0.001*day + 0.001*rkt + 0.001*time + 0.001*gme + 0.001*put'),\n",
       " (13,\n",
       "  '0.003*I + 0.002*like + 0.002*going + 0.002*stock + 0.002*get + 0.002*call + 0.002*money + 0.001*buy + 0.001*go + 0.001*would + 0.001*market + 0.001*good + 0.001*time + 0.001*rkt + 0.001*day + 0.001*gme + 0.001*one + 0.001*back + 0.001*think + 0.001*people'),\n",
       " (14,\n",
       "  '0.004*I + 0.002*like + 0.002*going + 0.002*get + 0.002*stock + 0.002*go + 0.002*call + 0.002*buy + 0.001*would + 0.001*good + 0.001*think + 0.001*rkt + 0.001*money + 0.001*one + 0.001*share + 0.001*day + 0.001*market + 0.001*gme + 0.001*time + 0.001*back'),\n",
       " (15,\n",
       "  '0.004*I + 0.002*like + 0.002*get + 0.002*going + 0.002*stock + 0.002*call + 0.001*buy + 0.001*money + 0.001*would + 0.001*go + 0.001*one + 0.001*day + 0.001*good + 0.001*market + 0.001*gme + 0.001*time + 0.001*rkt + 0.001*people + 0.001*think + 0.001*make'),\n",
       " (16,\n",
       "  '0.003*I + 0.002*like + 0.002*get + 0.002*going + 0.002*stock + 0.002*call + 0.001*would + 0.001*buy + 0.001*money + 0.001*go + 0.001*rkt + 0.001*good + 0.001*one + 0.001*day + 0.001*gme + 0.001*think + 0.001*time + 0.001*back + 0.001*put + 0.001*make'),\n",
       " (17,\n",
       "  '0.003*I + 0.003*like + 0.002*going + 0.002*stock + 0.002*get + 0.002*call + 0.001*would + 0.001*go + 0.001*buy + 0.001*money + 0.001*people + 0.001*rkt + 0.001*time + 0.001*good + 0.001*gme + 0.001*one + 0.001*day + 0.001*think + 0.001*make + 0.001*market'),\n",
       " (18,\n",
       "  '0.003*I + 0.002*like + 0.002*going + 0.002*stock + 0.002*get + 0.001*call + 0.001*buy + 0.001*would + 0.001*go + 0.001*money + 0.001*good + 0.001*market + 0.001*gme + 0.001*rkt + 0.001*one + 0.001*put + 0.001*think + 0.001*time + 0.001*people + 0.001*day'),\n",
       " (19,\n",
       "  '0.003*I + 0.002*like + 0.002*going + 0.002*call + 0.002*stock + 0.002*get + 0.001*would + 0.001*day + 0.001*buy + 0.001*good + 0.001*go + 0.001*money + 0.001*one + 0.001*market + 0.001*share + 0.001*rkt + 0.001*put + 0.001*people + 0.001*think + 0.001*time')]"
      ]
     },
     "metadata": {},
     "execution_count": 13
    }
   ],
   "source": [
    "model.show_topics()"
   ]
  }
 ]
}
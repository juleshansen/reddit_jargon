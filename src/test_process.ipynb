{
 "cells": [
  {
   "cell_type": "code",
   "execution_count": 1,
   "metadata": {},
   "outputs": [],
   "source": [
    "from nlprocessing import ProcessCorpus\n",
    "import pandas as pd\n",
    "from nltk.corpus import words\n",
    "import gensim\n",
    "\n",
    "# Plotting tools\n",
    "import pyLDAvis\n",
    "import pyLDAvis.gensim  # don't skip this\n",
    "import matplotlib.pyplot as plt\n",
    "%matplotlib inline\n",
    "\n",
    "import warnings\n",
    "warnings.filterwarnings(\"ignore\",category=DeprecationWarning)"
   ]
  },
  {
   "cell_type": "code",
   "execution_count": 2,
   "metadata": {},
   "outputs": [],
   "source": [
    "data1 = pd.read_csv('../data/comments.csv', sep='|').dropna()\n",
    "data2 = pd.read_csv('../data/more_comments.csv').dropna()\n",
    "data = data1.append(data2, ignore_index=True)\n",
    "data = data[~data.duplicated()]\n",
    "data = data[data['subreddit'] != 'politics']\n",
    "test = data['text'].sample(n=10000)"
   ]
  },
  {
   "cell_type": "code",
   "execution_count": 3,
   "metadata": {},
   "outputs": [],
   "source": [
    "corpus = ProcessCorpus()\n",
    "corpus.fit(test, frequency=2)"
   ]
  },
  {
   "cell_type": "code",
   "execution_count": 25,
   "metadata": {},
   "outputs": [],
   "source": [
    "model = gensim.models.LdaModel(\n",
    "    corpus=corpus.gensim_corpus_filtered,\n",
    "    id2word=corpus.gensim_dictionary,\n",
    "    num_topics=5,\n",
    "    update_every=1,\n",
    "    chunksize=100,\n",
    "    passes=10,\n",
    "    alpha='auto',\n",
    "    per_word_topics=True\n",
    ")"
   ]
  },
  {
   "cell_type": "code",
   "execution_count": 33,
   "metadata": {},
   "outputs": [
    {
     "data": {
      "text/plain": [
       "0.5755995285087667"
      ]
     },
     "execution_count": 33,
     "metadata": {},
     "output_type": "execute_result"
    }
   ],
   "source": [
    "coherence = gensim.models.CoherenceModel(\n",
    "    model=model,\n",
    "    texts=corpus.corpus_filtered,\n",
    "    corpus=corpus.gensim_corpus_filtered\n",
    ")\n",
    "coherence.get_coherence()"
   ]
  },
  {
   "cell_type": "code",
   "execution_count": 42,
   "metadata": {},
   "outputs": [],
   "source": [
    "def find_perplexity_coherence(n_topics):\n",
    "    model = gensim.models.LdaModel(\n",
    "        corpus=corpus.gensim_corpus_filtered,\n",
    "        id2word=corpus.gensim_dictionary,\n",
    "        num_topics=5,\n",
    "        update_every=1,\n",
    "        chunksize=100,\n",
    "        passes=10,\n",
    "        alpha='auto',\n",
    "        eta='auto',\n",
    "        per_word_topics=True\n",
    "    )\n",
    "    coherence = gensim.models.CoherenceModel(\n",
    "        model=model,\n",
    "        texts=corpus.corpus_filtered,\n",
    "        corpus=corpus.gensim_corpus_filtered\n",
    "    )\n",
    "    return [n_topics, model.log_perplexity(corpus.gensim_corpus_filtered), coherence.get_coherence()]"
   ]
  },
  {
   "cell_type": "code",
   "execution_count": 51,
   "metadata": {},
   "outputs": [],
   "source": [
    "def new_random_sample():\n",
    "    test = data['text'].sample(n=10000)\n",
    "    corpus = ProcessCorpus()\n",
    "    corpus.fit(test, frequency=2)\n",
    "    return corpus"
   ]
  },
  {
   "cell_type": "code",
   "execution_count": 54,
   "metadata": {},
   "outputs": [
    {
     "data": {
      "text/plain": [
       "({2: [0.5794747213541427,\n",
       "   0.6004300040846695,\n",
       "   0.5659568867894853,\n",
       "   0.5845094726573095,\n",
       "   0.6019885038436528],\n",
       "  5: [0.5581357839026222,\n",
       "   0.6045552835635952,\n",
       "   0.5787045579412343,\n",
       "   0.5852093850005661,\n",
       "   0.5982638244345647],\n",
       "  8: [0.5858693728921971,\n",
       "   0.6177092915924648,\n",
       "   0.5528993851091155,\n",
       "   0.5941099151842477,\n",
       "   0.5829440901807226],\n",
       "  11: [0.5917437510513529,\n",
       "   0.5853737893041893,\n",
       "   0.5853016302135162,\n",
       "   0.6106977931084663,\n",
       "   0.5889655910506306],\n",
       "  14: [0.576027143510943,\n",
       "   0.5791875045423126,\n",
       "   0.5504760691533711,\n",
       "   0.5978668648317405,\n",
       "   0.5946342407143786],\n",
       "  17: [0.5608061074152166,\n",
       "   0.6096190051915278,\n",
       "   0.5806986225776388,\n",
       "   0.5921677490308459,\n",
       "   0.5951759721374711],\n",
       "  20: [0.5480596873441955,\n",
       "   0.6014154975870706,\n",
       "   0.5986388897111613,\n",
       "   0.5972238288975069,\n",
       "   0.5722506714447821],\n",
       "  23: [0.5933243353583243,\n",
       "   0.5946009033103765,\n",
       "   0.5729660467210941,\n",
       "   0.5925055476813392,\n",
       "   0.5917618152670818],\n",
       "  26: [0.5597350647233734,\n",
       "   0.6190442260665748,\n",
       "   0.5865721580810698,\n",
       "   0.5853322795796826,\n",
       "   0.5967277992560269],\n",
       "  29: [0.5768671017585408,\n",
       "   0.6080263469809738,\n",
       "   0.5909582248115297,\n",
       "   0.5963438109427315,\n",
       "   0.5705152794030697]},\n",
       " {2: [-8.0083779548031,\n",
       "   -7.823844566066721,\n",
       "   -7.931912312355894,\n",
       "   -7.967102003174259,\n",
       "   -7.907409803760459],\n",
       "  5: [-7.9965876814747165,\n",
       "   -7.818752579947888,\n",
       "   -7.947391630080917,\n",
       "   -7.960193759138918,\n",
       "   -7.9003698793686254],\n",
       "  8: [-8.003779898430427,\n",
       "   -7.827209489876875,\n",
       "   -7.940897394220241,\n",
       "   -7.967714842166878,\n",
       "   -7.900399940245861],\n",
       "  11: [-8.007538195851584,\n",
       "   -7.8016746280006135,\n",
       "   -7.946309504893258,\n",
       "   -7.9683563657971925,\n",
       "   -7.907021288378349],\n",
       "  14: [-7.999266057802938,\n",
       "   -7.822055803687739,\n",
       "   -7.949365638859769,\n",
       "   -7.963390672423056,\n",
       "   -7.914638772011542],\n",
       "  17: [-7.993191765168241,\n",
       "   -7.822566497520004,\n",
       "   -7.944039331423979,\n",
       "   -7.961553669633397,\n",
       "   -7.900044470604797],\n",
       "  20: [-7.996367476948533,\n",
       "   -7.817907317842672,\n",
       "   -7.9500433800347645,\n",
       "   -7.965232666777075,\n",
       "   -7.907305952442155],\n",
       "  23: [-7.9992438094493625,\n",
       "   -7.825698481745674,\n",
       "   -7.93884041393762,\n",
       "   -7.959684793595585,\n",
       "   -7.911069108715605],\n",
       "  26: [-8.00521896078597,\n",
       "   -7.828481013793545,\n",
       "   -7.943386750113506,\n",
       "   -7.956475494299449,\n",
       "   -7.904072651657341],\n",
       "  29: [-8.002648205157406,\n",
       "   -7.825221532646256,\n",
       "   -7.9386115497165175,\n",
       "   -7.959084786942005,\n",
       "   -7.91321695036381]})"
      ]
     },
     "execution_count": 54,
     "metadata": {},
     "output_type": "execute_result"
    }
   ],
   "source": [
    "coherence = {new_list: [] for new_list in range(2,30,3)}\n",
    "perplexity = {new_list: [] for new_list in range(2,30,3)}\n",
    "for j in range(5):\n",
    "#     corpus = new_random_sample()\n",
    "    for i in range(2,30,3):\n",
    "        _, p, c = find_perplexity_coherence(i)\n",
    "        coherence[i].append(c)\n",
    "        perplexity[i].append(p)"
   ]
  },
  {
   "cell_type": "code",
   "execution_count": 55,
   "metadata": {},
   "outputs": [],
   "source": [
    "def mean_dict(dictionary):\n",
    "    mean = {}\n",
    "    for key in dictionary:\n",
    "        mean[key] = sum(dictionary[key])/len(dictionary[key])\n",
    "    return mean"
   ]
  },
  {
   "cell_type": "code",
   "execution_count": 56,
   "metadata": {},
   "outputs": [
    {
     "data": {
      "text/plain": [
       "{2: 0.586471917745852,\n",
       " 5: 0.5849737669685166,\n",
       " 8: 0.5867064109917495,\n",
       " 11: 0.5924165109456311,\n",
       " 14: 0.5796383645505492,\n",
       " 17: 0.5876934912705402,\n",
       " 20: 0.5835177149969433,\n",
       " 23: 0.5890317296676432,\n",
       " 26: 0.5894823055413456,\n",
       " 29: 0.588542152779369}"
      ]
     },
     "execution_count": 56,
     "metadata": {},
     "output_type": "execute_result"
    }
   ],
   "source": [
    "mean_dict(coherence)"
   ]
  },
  {
   "cell_type": "code",
   "execution_count": 57,
   "metadata": {},
   "outputs": [
    {
     "data": {
      "text/plain": [
       "{2: -7.927729328032086,\n",
       " 5: -7.9246591060022125,\n",
       " 8: -7.928000312988056,\n",
       " 11: -7.926179996584199,\n",
       " 14: -7.929743388957009,\n",
       " 17: -7.924279146870083,\n",
       " 20: -7.92737135880904,\n",
       " 23: -7.92690732148877,\n",
       " 26: -7.927526974129961,\n",
       " 29: -7.927756604965198}"
      ]
     },
     "execution_count": 57,
     "metadata": {},
     "output_type": "execute_result"
    }
   ],
   "source": [
    "mean_dict(perplexity)"
   ]
  },
  {
   "cell_type": "code",
   "execution_count": 69,
   "metadata": {},
   "outputs": [],
   "source": [
    "import numpy as np\n",
    "x = list(mean_dict(coherence).keys())\n",
    "y1 = list(mean_dict(coherence).values())\n",
    "y2 = np.array(list(mean_dict(perplexity).values()))"
   ]
  },
  {
   "cell_type": "code",
   "execution_count": 71,
   "metadata": {},
   "outputs": [
    {
     "data": {
      "text/plain": [
       "array([0.07227067, 0.07534089, 0.07199969, 0.07382   , 0.07025661,\n",
       "       0.07572085, 0.07262864, 0.07309268, 0.07247303, 0.0722434 ])"
      ]
     },
     "execution_count": 71,
     "metadata": {},
     "output_type": "execute_result"
    }
   ],
   "source": [
    "y2+8"
   ]
  },
  {
   "cell_type": "code",
   "execution_count": 75,
   "metadata": {},
   "outputs": [
    {
     "data": {
      "text/plain": [
       "[<matplotlib.lines.Line2D at 0x7f490488ec10>]"
      ]
     },
     "execution_count": 75,
     "metadata": {},
     "output_type": "execute_result"
    },
    {
     "data": {
      "image/png": "[encoded data removed]",
      "text/plain": [
       "<Figure size 432x288 with 1 Axes>"
      ]
     },
     "metadata": {
      "needs_background": "light"
     },
     "output_type": "display_data"
    }
   ],
   "source": [
    "plt.plot(x,y1)\n",
    "plt.plot(x,y2+8.5)"
   ]
  },
  {
   "cell_type": "code",
   "execution_count": 26,
   "metadata": {},
   "outputs": [],
   "source": [
    "# model = gensim.models.LdaModel.load('mdl/model2/full_corpus_model')"
   ]
  },
  {
   "cell_type": "code",
   "execution_count": 91,
   "metadata": {},
   "outputs": [
    {
     "data": {
      "text/plain": [
       "([(0, 0.12705053),\n",
       "  (1, 0.40498552),\n",
       "  (2, 0.19406198),\n",
       "  (3, 0.11966491),\n",
       "  (4, 0.15423709)],\n",
       " [(395, [1, 2, 4, 0, 3]),\n",
       "  (432, [2, 1, 4, 0, 3]),\n",
       "  (433, [1]),\n",
       "  (434, [1, 2, 4, 0, 3]),\n",
       "  (435, [1]),\n",
       "  (436, [1, 2, 4, 0, 3]),\n",
       "  (437, [1, 2, 4, 0, 3]),\n",
       "  (438, [1, 2, 4, 0, 3]),\n",
       "  (439, [1, 2, 4, 0, 3]),\n",
       "  (440, [1, 2, 4, 0, 3])],\n",
       " [(395,\n",
       "   [(0, 0.12140708),\n",
       "    (1, 0.35436654),\n",
       "    (2, 0.16889648),\n",
       "    (3, 0.114979394),\n",
       "    (4, 0.13117568)]),\n",
       "  (432,\n",
       "   [(0, 0.06410742),\n",
       "    (1, 0.26843724),\n",
       "    (2, 0.403235),\n",
       "    (3, 0.054965414),\n",
       "    (4, 0.20862435)]),\n",
       "  (433, [(1, 0.9992467)]),\n",
       "  (434,\n",
       "   [(0, 0.12140708),\n",
       "    (1, 0.35436654),\n",
       "    (2, 0.16889648),\n",
       "    (3, 0.114979394),\n",
       "    (4, 0.13117568)]),\n",
       "  (435, [(1, 0.9998736)]),\n",
       "  (436,\n",
       "   [(0, 0.12140708),\n",
       "    (1, 0.35436654),\n",
       "    (2, 0.16889648),\n",
       "    (3, 0.114979394),\n",
       "    (4, 0.13117568)]),\n",
       "  (437,\n",
       "   [(0, 0.12140708),\n",
       "    (1, 0.35436654),\n",
       "    (2, 0.16889648),\n",
       "    (3, 0.114979394),\n",
       "    (4, 0.13117568)]),\n",
       "  (438,\n",
       "   [(0, 0.12140708),\n",
       "    (1, 0.35436654),\n",
       "    (2, 0.16889648),\n",
       "    (3, 0.114979394),\n",
       "    (4, 0.13117568)]),\n",
       "  (439,\n",
       "   [(0, 0.099138975),\n",
       "    (1, 0.4806464),\n",
       "    (2, 0.14446464),\n",
       "    (3, 0.08966985),\n",
       "    (4, 0.10792087)]),\n",
       "  (440,\n",
       "   [(0, 0.12140708),\n",
       "    (1, 0.35436654),\n",
       "    (2, 0.16889648),\n",
       "    (3, 0.114979394),\n",
       "    (4, 0.13117568)])])"
      ]
     },
     "execution_count": 91,
     "metadata": {},
     "output_type": "execute_result"
    }
   ],
   "source": [
    "model.get_document_topics(corpus.gensim_corpus, per_word_topics=True)[50]"
   ]
  },
  {
   "cell_type": "code",
   "execution_count": 45,
   "metadata": {},
   "outputs": [
    {
     "data": {
      "text/html": [
       "\n",
       "<link rel=\"stylesheet\" type=\"text/css\" href=\"https://cdn.jsdelivr.net/gh/bmabey/pyLDAvis/pyLDAvis/js/ldavis.v1.0.0.css\">\n",
       "\n",
       "\n",
       "<div id=\"ldavis_el391771399509359730726698235177\"></div>\n",
       "<script type=\"text/javascript\">\n",
       "\n",
       "var ldavis_el391771399509359730726698235177_data = {\"mdsDat\": {\"x\": [0.02887177664396985, 0.033400172742669786, 0.02042061163604326, -0.23369178242341157, 0.15099922140072874], \"y\": [-0.06599147022761302, -0.061689167092517344, -0.15077021412783792, 0.09098554841164397, 0.18746530303632422], \"topics\": [1, 2, 3, 4, 5], \"cluster\": [1, 1, 1, 1, 1], \"Freq\": [24.030348592438173, 22.50520284207371, 18.303776100482608, 18.123604573972198, 17.03706789103331]}, \"tinfo\": {\"Term\": [\"lol\", \"crypto\", \"eth\", \"gme\", \"etc\", \"le\", \"dogecoin\", \"buying\", \"bitcoin\", \"kid\", \"using\", \"btc\", \"shit\", \"rkt\", \"investing\", \"others\", \"lmao\", \"heard\", \"coinbase\", \"robinhood\", \"seems\", \"fucking\", \"fuck\", \"needed\", \"amazon\", \"elon\", \"meme\", \"mod\", \"started\", \"paid\", \"gme\", \"dogecoin\", \"kid\", \"lmao\", \"heard\", \"mod\", \"ok\", \"xb\", \"putting\", \"\\ud83d\\ude80\", \"decentralized\", \"missed\", \"loved\", \"app\", \"amc\", \"playing\", \"mom\", \"sharing\", \"wsb\", \"hype\", \"gamestop\", \"usd\", \"centralized\", \"dd\", \"cathie\", \"talked\", \"nano\", \"hcol\", \"binance\", \"owning\", \"crsr\", \"lol\", \"using\", \"needed\", \"amazon\", \"roth\", \"ira\", \"bro\", \"youtube\", \"netflix\", \"coworkers\", \"depends\", \"hitting\", \"surprised\", \"brings\", \"etf\", \"max\", \"info\", \"cryptocurrency\", \"programming\", \"costco\", \"fomo\", \"hodling\", \"vtsax\", \"requires\", \"became\", \"guaranteed\", \"american\", \"euro\", \"pretax\", \"amd\", \"uk\", \"laptop\", \"aso\", \"btc\", \"rkt\", \"robinhood\", \"paid\", \"started\", \"anymore\", \"haha\", \"pltr\", \"happened\", \"tesla\", \"planning\", \"okay\", \"hoping\", \"mvis\", \"asking\", \"pumping\", \"yup\", \"ramen\", \"moved\", \"checking\", \"reddit\", \"proud\", \"\\u00a3\", \"expecting\", \"staying\", \"scared\", \"held\", \"yolo\", \"nicer\", \"earlier\", \"fsly\", \"crypto\", \"buying\", \"shit\", \"investing\", \"others\", \"coinbase\", \"seems\", \"fucking\", \"fuck\", \"elon\", \"meme\", \"called\", \"wanted\", \"op\", \"\\ud83d\\ude02\", \"ltc\", \"america\", \"online\", \"safemoon\", \"owned\", \"larger\", \"fucked\", \"congrats\", \"camping\", \"lifestyle\", \"january\", \"healthcare\", \"rh\", \"dropped\", \"mentioned\", \"lambo\", \"eth\", \"etc\", \"le\", \"bitcoin\", \"changed\", \"hodl\", \"invested\", \"wtf\", \"google\", \"looked\", \"ada\", \"cheaper\", \"happens\", \"created\", \"including\", \"ethereum\", \"managed\", \"facebook\", \"saturday\", \"xrp\", \"marketplace\", \"walmart\", \"subreddit\", \"gdp\", \"earned\", \"passed\", \"purchased\", \"ac\", \"loses\", \"april\", \"ebay\"], \"Freq\": [2608.0, 1392.0, 1229.0, 1512.0, 1162.0, 1062.0, 1275.0, 978.0, 882.0, 1058.0, 902.0, 740.0, 713.0, 691.0, 587.0, 556.0, 627.0, 626.0, 485.0, 427.0, 423.0, 418.0, 396.0, 454.0, 435.0, 366.0, 365.0, 422.0, 336.0, 336.0, 1507.9802130143685, 1271.1669701888657, 1053.9686925477051, 623.147378787145, 621.9260261602392, 417.87603149636516, 374.09240411405204, 375.31577142513873, 362.72632211344126, 286.019293365042, 285.60531832963636, 256.07654630487673, 257.47147390550094, 246.8664885118989, 244.17035868880834, 244.89067922303087, 234.7554415656426, 228.15530781348357, 217.77925864482174, 216.2461691107278, 220.7723415658299, 211.33829913086325, 216.74846392800336, 206.48709569056314, 206.7594327528913, 197.57938240387406, 178.10130224049263, 189.6092350329324, 165.08007205784787, 142.79312488475125, 149.27410851190731, 2604.3218641781386, 897.6243381572357, 449.9794977314085, 430.6035588330284, 340.106249562321, 326.6580260786276, 325.11450327183013, 305.7351096376475, 272.59024147353426, 314.93164291892487, 254.78966210111673, 253.9218058926255, 240.62830142310477, 244.0480646693761, 235.5624628664818, 221.8220218836743, 211.02094984634823, 209.2264670583863, 203.722262390756, 200.5318005896562, 170.28186815362545, 163.17057354043072, 163.9832735630897, 189.321847282653, 152.28730536589478, 151.0602230711654, 144.37949483853149, 148.56575765982538, 135.2582083605227, 131.81050161658692, 134.04736332406532, 136.00433828175562, 152.57347707735443, 735.0643513058237, 686.9282060029967, 422.8712183578627, 331.19242397187526, 331.21133596513823, 284.1893340094219, 256.00378541219857, 242.6440940067277, 231.6237405199184, 221.74141352599756, 205.89729138955133, 189.46536288878409, 177.55290366262528, 176.97382923576515, 175.34936466244545, 155.1551922904675, 150.30964783144486, 159.2748188000827, 145.3547055965357, 133.59615757497792, 127.09165306692385, 127.30209492110136, 125.67236741022789, 131.8341217592364, 123.16126536532502, 122.69951013781531, 119.4738265326095, 119.03103733262925, 111.82774007693354, 106.65152752084711, 111.19947285388298, 1387.6304140619982, 973.3055464509466, 708.8050344850486, 581.977930068925, 551.3279972795008, 480.504022311064, 418.5115362548462, 413.0505692021875, 391.60535796388103, 360.9942037032231, 360.007362909364, 270.09238865457405, 247.35695669757888, 228.68400364793726, 226.01530467599443, 217.3870606245336, 218.3168464748546, 205.30551582318793, 165.7250398056535, 132.65739843356425, 132.90145491372493, 129.825677694029, 123.52652087444878, 127.95974991002961, 120.78945655474435, 119.7501941239023, 116.03801673316657, 108.09015181334975, 106.95890808193505, 103.94433759086589, 151.05355154332528, 1224.228197286992, 1157.4806695620005, 1057.0541084216577, 877.8151327101432, 297.5022996208915, 294.88499645182526, 269.1826238615359, 266.1565041257385, 237.277087047739, 229.6768730312334, 222.953499232285, 217.55131049166886, 195.9472430081694, 189.08622229472, 173.8684727192672, 163.9963603678181, 155.2250008557321, 155.18896963330135, 151.74006142458728, 140.53300334694288, 143.46720423556766, 136.31651542822132, 120.18579382310327, 124.90865017766085, 116.39444817574862, 113.17947132070564, 101.68398240219588, 96.61999627480343, 95.88096391523104, 92.2590414614558, 92.9234362804262], \"Total\": [2608.0, 1392.0, 1229.0, 1512.0, 1162.0, 1062.0, 1275.0, 978.0, 882.0, 1058.0, 902.0, 740.0, 713.0, 691.0, 587.0, 556.0, 627.0, 626.0, 485.0, 427.0, 423.0, 418.0, 396.0, 454.0, 435.0, 366.0, 365.0, 422.0, 336.0, 336.0, 1512.3862995451798, 1275.6268335015327, 1058.361740005214, 627.5983507664382, 626.3816027940702, 422.27333704990434, 378.48691493808354, 379.7376144070026, 367.1491360591374, 290.42389172266013, 290.26147949010965, 260.47791993887756, 262.0212295089872, 251.26549650462934, 248.58094532934, 249.31615414766017, 239.16671829595964, 232.63472069198966, 222.16699697133257, 220.63486239120286, 225.3545955566016, 215.7262756299365, 221.4220783416725, 210.96127881716964, 211.2419668650131, 202.1865185846025, 182.47815780550263, 194.27546121390793, 169.47967298292863, 147.22802455864482, 153.91777497920341, 2608.874856289343, 902.1605219768911, 454.55278163581676, 435.182542891955, 344.6261420664613, 331.18835086068725, 329.657197615099, 310.35316242579324, 277.3275361054064, 320.4227943386991, 259.37944307075145, 258.5668852041312, 245.24090323781786, 248.8702993552256, 240.25713215792112, 226.37692387555154, 215.64145003616377, 213.81001695701872, 208.67701392263587, 205.4314757228177, 174.91898112176483, 167.73902751417188, 168.61490897671155, 194.96206057840985, 156.8807218765379, 155.76159810357922, 148.92007791515417, 153.64752591446612, 139.88855547792795, 136.3584568380047, 138.7314477966664, 140.87208852964463, 174.42195710580143, 740.1113062039309, 691.9740781051436, 427.897901524707, 336.2137483585794, 336.23295017880923, 289.27628882890525, 261.0272036326825, 247.733961697333, 236.6698912916879, 226.83428126444474, 210.93158215808612, 194.57207733667104, 182.57840264778855, 182.03697040983138, 180.42485536089703, 160.19479844788816, 155.3853921708777, 164.79298654138705, 150.4059871754574, 138.7060469100689, 132.1592009489181, 132.39116527826482, 130.8113307528661, 137.24159593467812, 128.227758335252, 127.76807803186585, 124.5080784047203, 124.07791936633188, 117.03174561180005, 111.68906751242503, 123.5932987039109, 1392.7407659381402, 978.4284595171493, 713.9323422473701, 587.1262489158925, 556.4965275164348, 485.64102388970383, 423.62542145298937, 418.16591756388414, 396.707908217243, 366.13065917173867, 365.14743055948946, 275.2472073284141, 252.4894017382856, 233.8216624355813, 231.16473167271087, 222.63458465484, 223.63105536076242, 210.44595875838914, 170.8564872822896, 137.8108105324153, 138.11477835396022, 134.98676299508483, 128.63032453271256, 133.32355022527508, 125.99598296108532, 125.00437861352307, 121.3048172452019, 113.18212772021795, 112.11621480654733, 109.04445826918644, 160.47660483334923, 1229.3236886897373, 1162.5759777396497, 1062.1483545188437, 882.8780488987109, 302.6136864546093, 299.96578983915833, 274.3155765675817, 271.30365348651327, 242.39494479583203, 234.79007369324543, 228.01245659450046, 222.6312452909315, 201.0219391915442, 194.31919934356813, 178.9901853247503, 169.06423804280453, 160.34203267975067, 160.43768467008238, 157.02719721365338, 145.66054664273193, 148.87673911502887, 141.48802857438227, 125.28241014265174, 130.20709752008526, 121.56752266906906, 118.35325833567592, 106.79829237928224, 101.80137205306768, 101.03128461639702, 97.39857694744511, 98.22483521426106], \"Category\": [\"Default\", \"Default\", \"Default\", \"Default\", \"Default\", \"Default\", \"Default\", \"Default\", \"Default\", \"Default\", \"Default\", \"Default\", \"Default\", \"Default\", \"Default\", \"Default\", \"Default\", \"Default\", \"Default\", \"Default\", \"Default\", \"Default\", \"Default\", \"Default\", \"Default\", \"Default\", \"Default\", \"Default\", \"Default\", \"Default\", \"Topic1\", \"Topic1\", \"Topic1\", \"Topic1\", \"Topic1\", \"Topic1\", \"Topic1\", \"Topic1\", \"Topic1\", \"Topic1\", \"Topic1\", \"Topic1\", \"Topic1\", \"Topic1\", \"Topic1\", \"Topic1\", \"Topic1\", \"Topic1\", \"Topic1\", \"Topic1\", \"Topic1\", \"Topic1\", \"Topic1\", \"Topic1\", \"Topic1\", \"Topic1\", \"Topic1\", \"Topic1\", \"Topic1\", \"Topic1\", \"Topic1\", \"Topic2\", \"Topic2\", \"Topic2\", \"Topic2\", \"Topic2\", \"Topic2\", \"Topic2\", \"Topic2\", \"Topic2\", \"Topic2\", \"Topic2\", \"Topic2\", \"Topic2\", \"Topic2\", \"Topic2\", \"Topic2\", \"Topic2\", \"Topic2\", \"Topic2\", \"Topic2\", \"Topic2\", \"Topic2\", \"Topic2\", \"Topic2\", \"Topic2\", \"Topic2\", \"Topic2\", \"Topic2\", \"Topic2\", \"Topic2\", \"Topic2\", \"Topic2\", \"Topic2\", \"Topic3\", \"Topic3\", \"Topic3\", \"Topic3\", \"Topic3\", \"Topic3\", \"Topic3\", \"Topic3\", \"Topic3\", \"Topic3\", \"Topic3\", \"Topic3\", \"Topic3\", \"Topic3\", \"Topic3\", \"Topic3\", \"Topic3\", \"Topic3\", \"Topic3\", \"Topic3\", \"Topic3\", \"Topic3\", \"Topic3\", \"Topic3\", \"Topic3\", \"Topic3\", \"Topic3\", \"Topic3\", \"Topic3\", \"Topic3\", \"Topic3\", \"Topic4\", \"Topic4\", \"Topic4\", \"Topic4\", \"Topic4\", \"Topic4\", \"Topic4\", \"Topic4\", \"Topic4\", \"Topic4\", \"Topic4\", \"Topic4\", \"Topic4\", \"Topic4\", \"Topic4\", \"Topic4\", \"Topic4\", \"Topic4\", \"Topic4\", \"Topic4\", \"Topic4\", \"Topic4\", \"Topic4\", \"Topic4\", \"Topic4\", \"Topic4\", \"Topic4\", \"Topic4\", \"Topic4\", \"Topic4\", \"Topic4\", \"Topic5\", \"Topic5\", \"Topic5\", \"Topic5\", \"Topic5\", \"Topic5\", \"Topic5\", \"Topic5\", \"Topic5\", \"Topic5\", \"Topic5\", \"Topic5\", \"Topic5\", \"Topic5\", \"Topic5\", \"Topic5\", \"Topic5\", \"Topic5\", \"Topic5\", \"Topic5\", \"Topic5\", \"Topic5\", \"Topic5\", \"Topic5\", \"Topic5\", \"Topic5\", \"Topic5\", \"Topic5\", \"Topic5\", \"Topic5\", \"Topic5\"], \"logprob\": [30.0, 29.0, 28.0, 27.0, 26.0, 25.0, 24.0, 23.0, 22.0, 21.0, 20.0, 19.0, 18.0, 17.0, 16.0, 15.0, 14.0, 13.0, 12.0, 11.0, 10.0, 9.0, 8.0, 7.0, 6.0, 5.0, 4.0, 3.0, 2.0, 1.0, -3.0059, -3.1768, -3.3641, -3.8897, -3.8916, -4.2893, -4.3999, -4.3967, -4.4308, -4.6684, -4.6698, -4.779, -4.7735, -4.8156, -4.8266, -4.8236, -4.8659, -4.8944, -4.941, -4.948, -4.9273, -4.971, -4.9457, -4.9942, -4.9929, -5.0383, -5.1421, -5.0795, -5.218, -5.363, -5.3187, -2.3939, -3.4591, -4.1497, -4.1937, -4.4296, -4.47, -4.4747, -4.5362, -4.6509, -4.5065, -4.7184, -4.7218, -4.7756, -4.7615, -4.7969, -4.857, -4.9069, -4.9155, -4.9421, -4.9579, -5.1214, -5.1641, -5.1591, -5.0154, -5.2331, -5.2412, -5.2864, -5.2578, -5.3517, -5.3775, -5.3607, -5.3462, -5.2312, -3.4523, -3.52, -4.0052, -4.2495, -4.2495, -4.4026, -4.507, -4.5606, -4.6071, -4.6507, -4.7249, -4.808, -4.873, -4.8762, -4.8855, -5.0078, -5.0395, -4.9816, -5.0731, -5.1574, -5.2073, -5.2057, -5.2186, -5.1707, -5.2387, -5.2425, -5.2691, -5.2728, -5.3353, -5.3827, -5.3409, -2.807, -3.1616, -3.4788, -3.6759, -3.73, -3.8675, -4.0056, -4.0188, -4.0721, -4.1535, -4.1562, -4.4436, -4.5315, -4.61, -4.6217, -4.6607, -4.6564, -4.7178, -4.932, -5.1546, -5.1527, -5.1761, -5.2259, -5.1906, -5.2483, -5.2569, -5.2884, -5.3594, -5.3699, -5.3985, -5.0247, -2.8705, -2.9265, -3.0173, -3.2031, -4.2851, -4.2939, -4.3851, -4.3964, -4.5113, -4.5438, -4.5736, -4.5981, -4.7027, -4.7383, -4.8222, -4.8807, -4.9356, -4.9359, -4.9583, -5.0351, -5.0144, -5.0655, -5.1915, -5.1529, -5.2235, -5.2515, -5.3586, -5.4097, -5.4174, -5.4559, -5.4487], \"loglift\": [30.0, 29.0, 28.0, 27.0, 26.0, 25.0, 24.0, 23.0, 22.0, 21.0, 20.0, 19.0, 18.0, 17.0, 16.0, 15.0, 14.0, 13.0, 12.0, 11.0, 10.0, 9.0, 8.0, 7.0, 6.0, 5.0, 4.0, 3.0, 2.0, 1.0, 1.4229, 1.4224, 1.4217, 1.4187, 1.4187, 1.4154, 1.4142, 1.4141, 1.4137, 1.4106, 1.4097, 1.4088, 1.4083, 1.4082, 1.408, 1.4079, 1.4072, 1.4064, 1.4059, 1.4058, 1.4053, 1.4053, 1.4045, 1.4044, 1.4044, 1.4028, 1.4016, 1.4015, 1.3996, 1.3953, 1.3952, 1.4897, 1.4864, 1.4813, 1.4808, 1.4782, 1.4777, 1.4775, 1.4764, 1.4742, 1.4741, 1.4736, 1.4733, 1.4724, 1.4719, 1.4717, 1.4711, 1.4698, 1.4698, 1.4674, 1.4673, 1.4646, 1.4638, 1.4636, 1.4621, 1.4617, 1.4608, 1.4605, 1.4578, 1.4578, 1.4575, 1.4571, 1.4563, 1.3576, 1.6912, 1.6907, 1.6862, 1.683, 1.683, 1.6803, 1.6786, 1.6773, 1.6765, 1.6754, 1.6739, 1.6715, 1.6702, 1.6699, 1.6695, 1.6661, 1.6649, 1.664, 1.6639, 1.6605, 1.659, 1.6589, 1.658, 1.6579, 1.6577, 1.6576, 1.6568, 1.6565, 1.6526, 1.6519, 1.5924, 1.7043, 1.7027, 1.7007, 1.6991, 1.6986, 1.6973, 1.6958, 1.6956, 1.695, 1.6938, 1.6938, 1.689, 1.6874, 1.6857, 1.6854, 1.6841, 1.6839, 1.6832, 1.6775, 1.6698, 1.6695, 1.669, 1.6675, 1.6669, 1.6658, 1.665, 1.6636, 1.6619, 1.6609, 1.6601, 1.6474, 1.7656, 1.7654, 1.765, 1.764, 1.7527, 1.7527, 1.7509, 1.7506, 1.7484, 1.7478, 1.7473, 1.7467, 1.7442, 1.7425, 1.7407, 1.7393, 1.7373, 1.7365, 1.7355, 1.7339, 1.7328, 1.7325, 1.7282, 1.7282, 1.7263, 1.7251, 1.7207, 1.7175, 1.7175, 1.7156, 1.7143]}, \"token.table\": {\"Topic\": [1, 2, 3, 4, 5, 1, 2, 3, 4, 5, 1, 2, 3, 4, 5, 1, 2, 3, 4, 5, 1, 2, 3, 4, 5, 1, 2, 3, 4, 5, 1, 2, 3, 4, 5, 1, 2, 3, 4, 5, 1, 2, 3, 4, 5, 1, 2, 3, 4, 5, 1, 2, 3, 4, 5, 1, 2, 3, 4, 5, 1, 2, 3, 4, 5, 1, 2, 3, 4, 5, 1, 2, 3, 4, 5, 1, 2, 3, 4, 5, 1, 2, 3, 4, 5, 1, 2, 3, 4, 5, 1, 2, 3, 4, 5, 1, 2, 3, 4, 5, 1, 2, 3, 4, 5, 1, 2, 3, 4, 5, 1, 2, 3, 4, 5, 1, 2, 3, 4, 5, 1, 2, 3, 4, 5, 1, 2, 3, 4, 5, 1, 2, 3, 4, 5, 1, 2, 3, 4, 5, 1, 2, 3, 4, 5, 1, 2, 3, 4, 5, 1, 2, 3, 4, 5, 1, 2, 3, 4, 5, 1, 2, 3, 4, 5, 1, 2, 3, 4, 5, 1, 2, 3, 4, 5, 1, 2, 3, 4, 5, 1, 2, 3, 4, 5, 1, 2, 3, 4, 5, 1, 2, 3, 4, 5, 1, 2, 3, 4, 5, 1, 2, 3, 4, 5, 1, 2, 3, 4, 5, 1, 2, 3, 4, 5, 1, 2, 3, 4, 5, 1, 2, 3, 4, 5, 1, 2, 3, 4, 5, 1, 2, 3, 4, 5, 1, 2, 3, 4, 5, 1, 2, 3, 4, 5, 1, 2, 3, 4, 5, 1, 2, 3, 4, 5, 1, 2, 3, 4, 5, 1, 2, 3, 4, 5, 1, 2, 3, 4, 5, 1, 2, 3, 4, 5, 1, 2, 3, 4, 5, 1, 2, 3, 4, 5, 1, 2, 3, 4, 5, 1, 2, 3, 4, 5, 1, 2, 3, 4, 5, 1, 2, 3, 4, 5, 1, 2, 3, 4, 5, 1, 2, 3, 4, 5, 1, 2, 3, 4, 5, 1, 2, 3, 4, 5, 1, 2, 3, 4, 5, 1, 2, 3, 4, 5, 1, 2, 3, 4, 5, 1, 2, 3, 4, 5, 1, 2, 3, 4, 5, 1, 2, 3, 4, 5, 1, 2, 3, 4, 5, 1, 2, 3, 4, 5, 1, 2, 3, 4, 5, 1, 2, 3, 4, 5, 1, 2, 3, 4, 5, 1, 2, 3, 4, 5, 1, 2, 3, 4, 5, 1, 2, 3, 4, 5, 1, 2, 3, 4, 5, 1, 2, 3, 4, 5, 1, 2, 3, 4, 5, 1, 2, 3, 4, 5, 1, 2, 3, 4, 5, 1, 2, 3, 4, 5, 1, 2, 3, 4, 5, 1, 2, 3, 4, 5, 1, 2, 3, 4, 5, 1, 2, 3, 4, 5, 1, 2, 3, 4, 5, 1, 2, 3, 4, 5, 1, 2, 3, 4, 5, 1, 2, 3, 4, 5, 1, 2, 3, 4, 5, 1, 2, 3, 4, 5, 1, 2, 3, 4, 5, 1, 2, 3, 4, 5, 1, 2, 3, 4, 5, 1, 2, 3, 4, 5, 1, 2, 3, 4, 5, 1, 2, 3, 4, 5, 1, 2, 3, 4, 5, 1, 2, 3, 4, 5, 1, 2, 3, 4, 5, 1, 2, 3, 4, 5, 1, 2, 3, 4, 5, 1, 2, 3, 4, 5, 1, 2, 3, 4, 5, 1, 2, 3, 4, 5, 1, 2, 3, 4, 5, 1, 2, 3, 4, 5, 1, 2, 3, 4, 5, 1, 2, 3, 4, 5, 1, 2, 3, 4, 5, 1, 2, 3, 4, 5, 1, 2, 3, 4, 5, 1, 2, 3, 4, 5, 1, 2, 3, 4, 5, 1, 2, 3, 4, 5, 1, 2, 3, 4, 5, 1, 2, 3, 4, 5, 1, 2, 3, 4, 5, 1, 2, 3, 4, 5, 1, 2, 3, 4, 5, 1, 2, 3, 4, 5, 1, 2, 3, 4, 5, 1, 2, 3, 4, 5, 1, 2, 3, 4, 5, 1, 2, 3, 4, 5, 1, 2, 3, 4, 5, 1, 2, 3, 4, 5, 1, 2, 3, 4, 5, 1, 2, 3, 4, 5, 1, 2, 3, 4, 5, 1, 2, 3, 4, 5, 1, 2, 3, 4, 5, 1, 2, 3, 4, 5, 1, 2, 3, 4, 5, 1, 2, 3, 4, 5, 1, 2, 3, 4, 5, 1, 2, 3, 4, 5, 1, 2, 3, 4, 5, 1, 2, 3, 4, 5, 1, 2, 3, 4, 5, 1, 2, 3, 4, 5, 1, 2, 3, 4, 5, 1, 2, 3, 4, 5, 1, 2, 3, 4, 5, 1, 2, 3, 4, 5, 1, 2, 3, 4, 5, 1, 2, 3, 4, 5, 1, 2, 3, 4, 5, 1, 2, 3, 4, 5, 1, 2, 3, 4, 5, 1, 2, 3, 4, 5, 1, 2, 3, 4, 5, 1, 2, 3, 4, 5], \"Freq\": [0.01964610063366756, 0.01964610063366756, 0.00982305031683378, 0.00982305031683378, 0.9528358807328766, 0.008771450603494085, 0.004385725301747042, 0.004385725301747042, 0.004385725301747042, 0.9780167422895905, 0.004595772584785301, 0.9903889920212323, 0.0022978862923926503, 0.0022978862923926503, 0.0022978862923926503, 0.981571615140208, 0.00402283448827954, 0.00402283448827954, 0.00402283448827954, 0.00402283448827954, 0.014667223774584228, 0.968036769122559, 0.007333611887292114, 0.007333611887292114, 0.007333611887292114, 0.008943301710818263, 0.008943301710818263, 0.004471650855409131, 0.9748198864791906, 0.004471650855409131, 0.013430022519458266, 0.9669616214009952, 0.006715011259729133, 0.006715011259729133, 0.006715011259729133, 0.006913805511321793, 0.006913805511321793, 0.9817603826076946, 0.0034569027556608967, 0.0034569027556608967, 0.9830239465268135, 0.003979854034521512, 0.003979854034521512, 0.003979854034521512, 0.003979854034521512, 0.020534180916002207, 0.020534180916002207, 0.010267090458001104, 0.010267090458001104, 0.9445723221361016, 0.011084947226364546, 0.011084947226364546, 0.9699328823068978, 0.005542473613182273, 0.005542473613182273, 0.03439933881925485, 0.8771831398909988, 0.04013256195579733, 0.02866611568271238, 0.022932892546169904, 0.012748538992406992, 0.9688889634229314, 0.006374269496203496, 0.006374269496203496, 0.006374269496203496, 0.9735680810324677, 0.005900412612317986, 0.005900412612317986, 0.005900412612317986, 0.005900412612317986, 0.002265318525582067, 0.0011326592627910336, 0.0011326592627910336, 0.0011326592627910336, 0.9944748327305275, 0.008036314518773876, 0.9804303712904128, 0.004018157259386938, 0.004018157259386938, 0.004018157259386938, 0.0060669083352918604, 0.9858726044849273, 0.0030334541676459302, 0.0030334541676459302, 0.0030334541676459302, 0.0027022962400859722, 0.0013511481200429861, 0.9930938682315947, 0.0013511481200429861, 0.0013511481200429861, 0.0020440942621262185, 0.0020440942621262185, 0.0010220471310631093, 0.9944518585244053, 0.0010220471310631093, 0.007266195429963723, 0.007266195429963723, 0.0036330977149818615, 0.9809363830451027, 0.0036330977149818615, 0.015001100680417118, 0.015001100680417118, 0.007500550340208559, 0.9600704435466956, 0.007500550340208559, 0.9799189198625301, 0.009467815650845701, 0.004733907825422851, 0.004733907825422851, 0.004733907825422851, 0.98002873798859, 0.009032522930770415, 0.0045162614653852075, 0.0045162614653852075, 0.0045162614653852075, 0.006609086401318438, 0.006609086401318438, 0.003304543200659219, 0.003304543200659219, 0.9847538737964473, 0.008983465000101073, 0.008983465000101073, 0.004491732500050537, 0.004491732500050537, 0.979197685011017, 0.014418982045510353, 0.014418982045510353, 0.9660717970491935, 0.007209491022755176, 0.007209491022755176, 0.004118268230268432, 0.004118268230268432, 0.002059134115134216, 0.9904435093795579, 0.002059134115134216, 0.015548433133987552, 0.007774216566993776, 0.007774216566993776, 0.9640028543072283, 0.007774216566993776, 0.009735606449610175, 0.9784284481858225, 0.004867803224805087, 0.004867803224805087, 0.004867803224805087, 0.006241753194018787, 0.983076128057959, 0.0031208765970093936, 0.0031208765970093936, 0.0031208765970093936, 0.010292343766113808, 0.010292343766113808, 0.005146171883056904, 0.005146171883056904, 0.9726264858977549, 0.9680493368626991, 0.0129939508303718, 0.0064969754151859, 0.0064969754151859, 0.0064969754151859, 0.0014360174189723056, 0.0007180087094861528, 0.0007180087094861528, 0.9965960887667801, 0.0007180087094861528, 0.00935409869221446, 0.9775033133364109, 0.00467704934610723, 0.00467704934610723, 0.00467704934610723, 0.9764825144927693, 0.009480412762065722, 0.004740206381032861, 0.004740206381032861, 0.004740206381032861, 0.9853184807794834, 0.006890339026429953, 0.0034451695132149767, 0.0034451695132149767, 0.0034451695132149767, 0.007710711289693285, 0.9831156894358939, 0.0038553556448466426, 0.0038553556448466426, 0.0038553556448466426, 0.9963728941881598, 0.0015678566391631153, 0.0007839283195815576, 0.0007839283195815576, 0.0007839283195815576, 0.017838632917200524, 0.017838632917200524, 0.008919316458600262, 0.9543668610702281, 0.008919316458600262, 0.017906855563795506, 0.017906855563795506, 0.9580167726630596, 0.008953427781897753, 0.008953427781897753, 0.016451762412271878, 0.016451762412271878, 0.008225881206135939, 0.008225881206135939, 0.954202219911769, 0.020361449277439197, 0.020361449277439197, 0.010180724638719598, 0.010180724638719598, 0.9468073914009226, 0.005462530793035478, 0.002731265396517739, 0.002731265396517739, 0.9859868081429038, 0.002731265396517739, 0.0017203176723886214, 0.0017203176723886214, 0.0008601588361943107, 0.0008601588361943107, 0.9952037734768175, 0.008324414688698602, 0.9822809332664352, 0.004162207344349301, 0.004162207344349301, 0.004162207344349301, 0.0016269108115305908, 0.0008134554057652954, 0.0008134554057652954, 0.0008134554057652954, 0.9956694166567216, 0.01182982293093605, 0.005914911465468025, 0.005914911465468025, 0.005914911465468025, 0.9700454803367561, 0.013016805757831583, 0.969752028958453, 0.006508402878915792, 0.006508402878915792, 0.006508402878915792, 0.014572841319565575, 0.014572841319565575, 0.9618075270913279, 0.0072864206597827875, 0.0072864206597827875, 0.012465899168968437, 0.012465899168968437, 0.006232949584484219, 0.006232949584484219, 0.9661071855950538, 0.011433864908049958, 0.9718785171842464, 0.005716932454024979, 0.005716932454024979, 0.005716932454024979, 0.02427316069285454, 0.02427316069285454, 0.898106945635618, 0.03236421425713939, 0.016182107128569694, 0.005041492641242662, 0.002520746320621331, 0.002520746320621331, 0.9881325576835618, 0.002520746320621331, 0.014816267577827794, 0.014816267577827794, 0.007408133788913897, 0.9630573925588066, 0.007408133788913897, 0.004782790552734264, 0.002391395276367132, 0.002391395276367132, 0.9876462491396255, 0.002391395276367132, 0.9806766951175493, 0.008874902218258365, 0.0044374511091291825, 0.0044374511091291825, 0.0044374511091291825, 0.015360145783846289, 0.015360145783846289, 0.007680072891923144, 0.007680072891923144, 0.960009111490393, 0.9970997492198264, 0.0006612067302518743, 0.0006612067302518743, 0.0006612067302518743, 0.0006612067302518743, 0.008250997155425785, 0.008250997155425785, 0.004125498577712892, 0.004125498577712892, 0.9777431629179554, 0.012840135337273753, 0.9694302179641684, 0.0064200676686368766, 0.0064200676686368766, 0.0064200676686368766, 0.007662036646626305, 0.0038310183233131526, 0.9807406907681671, 0.0038310183233131526, 0.0038310183233131526, 0.008450589084587297, 0.008450589084587297, 0.9802683338121265, 0.0042252945422936485, 0.0042252945422936485, 0.009949162803042585, 0.004974581401521292, 0.004974581401521292, 0.004974581401521292, 0.9750179546981734, 0.9779927882441086, 0.010294660928885355, 0.005147330464442677, 0.005147330464442677, 0.005147330464442677, 0.016487391394830266, 0.016487391394830266, 0.008243695697415133, 0.9562687009001555, 0.008243695697415133, 0.9930048986519953, 0.003192941796308666, 0.001596470898154333, 0.001596470898154333, 0.001596470898154333, 0.016063214737752927, 0.016063214737752927, 0.9557612768962992, 0.008031607368876464, 0.008031607368876464, 0.007734942540770667, 0.9823377026778747, 0.0038674712703853334, 0.0038674712703853334, 0.0038674712703853334, 0.006667426979164524, 0.003333713489582262, 0.003333713489582262, 0.003333713489582262, 0.9834454794267673, 0.011923283624802371, 0.9717476154213933, 0.0059616418124011855, 0.0059616418124011855, 0.0059616418124011855, 0.010954198147182797, 0.005477099073591399, 0.9749236350992689, 0.005477099073591399, 0.005477099073591399, 0.9789930641922541, 0.004532375297186361, 0.004532375297186361, 0.004532375297186361, 0.004532375297186361, 0.01117379702340274, 0.01117379702340274, 0.00558689851170137, 0.00558689851170137, 0.9721203410360385, 0.00927465475521795, 0.9784760766754935, 0.004637327377608975, 0.004637327377608975, 0.004637327377608975, 0.007290872888172541, 0.007290872888172541, 0.0036454364440862705, 0.0036454364440862705, 0.9806224034592068, 0.0034064223898913194, 0.0034064223898913194, 0.0017032111949456597, 0.9912689154583739, 0.0017032111949456597, 0.006038859744922883, 0.9873535682948913, 0.0030194298724614413, 0.0030194298724614413, 0.0030194298724614413, 0.015999439557100748, 0.015999439557100748, 0.007999719778550374, 0.959966373426045, 0.007999719778550374, 0.9958787814786346, 0.0009448565289171106, 0.0009448565289171106, 0.0009448565289171106, 0.0009448565289171106, 0.01869431374819664, 0.01869431374819664, 0.012462875832131093, 0.9409471253258976, 0.012462875832131093, 0.014197276556875403, 0.9654148058675274, 0.007098638278437702, 0.007098638278437702, 0.007098638278437702, 0.014480709623081789, 0.014480709623081789, 0.0072403548115408944, 0.9629671899349389, 0.0072403548115408944, 0.0018829761318097658, 0.0018829761318097658, 0.0009414880659048829, 0.0009414880659048829, 0.9951528856614612, 0.015873521940915476, 0.015873521940915476, 0.007936760970457738, 0.9603480774253862, 0.007936760970457738, 0.9926730993463851, 0.003186751522781333, 0.0015933757613906664, 0.0015933757613906664, 0.0015933757613906664, 0.0007666140041859431, 0.9981314334500979, 0.00038330700209297157, 0.00038330700209297157, 0.00038330700209297157, 0.008518247677766018, 0.008518247677766018, 0.004259123838883009, 0.004259123838883009, 0.979598482943092, 0.019795848460145257, 0.019795848460145257, 0.009897924230072628, 0.009897924230072628, 0.9502007260869723, 0.9808365546623964, 0.007632969296983629, 0.0038164846484918147, 0.0038164846484918147, 0.0038164846484918147, 0.008983330254374837, 0.008983330254374837, 0.004491665127187418, 0.9746913325996698, 0.004491665127187418, 0.012473335697287669, 0.012473335697287669, 0.0062366678486438345, 0.0062366678486438345, 0.9666835165397943, 0.013433932069500193, 0.013433932069500193, 0.0067169660347500965, 0.0067169660347500965, 0.9605261429692638, 0.008834822762674699, 0.9806653266568914, 0.004417411381337349, 0.004417411381337349, 0.004417411381337349, 0.0054772396917473634, 0.0054772396917473634, 0.0027386198458736817, 0.9859031445145254, 0.0027386198458736817, 0.0183411429773241, 0.00917057148866205, 0.00917057148866205, 0.9537394348208533, 0.00917057148866205, 0.9828088310136678, 0.0038390969961471398, 0.0038390969961471398, 0.0038390969961471398, 0.0038390969961471398, 0.9898801636879117, 0.002368134362889741, 0.002368134362889741, 0.002368134362889741, 0.002368134362889741, 0.9825781851018105, 0.008362367532781367, 0.004181183766390683, 0.004181183766390683, 0.004181183766390683, 0.013297342995175336, 0.013297342995175336, 0.964057367150212, 0.006648671497587668, 0.006648671497587668, 0.010986779199287228, 0.010986779199287228, 0.9723299591369197, 0.005493389599643614, 0.005493389599643614, 0.9754592118894813, 0.0054801079319633786, 0.0054801079319633786, 0.0054801079319633786, 0.0054801079319633786, 0.004399929074908578, 0.98998404185443, 0.002199964537454289, 0.002199964537454289, 0.002199964537454289, 0.007211689210839279, 0.9843955772795616, 0.0036058446054196393, 0.0036058446054196393, 0.0036058446054196393, 0.017089380232215765, 0.017089380232215765, 0.9570052930040829, 0.008544690116107883, 0.008544690116107883, 0.9881451253372456, 0.0026420992656076086, 0.0026420992656076086, 0.0026420992656076086, 0.0026420992656076086, 0.01027896719496585, 0.01027896719496585, 0.9713623999242729, 0.005139483597482925, 0.005139483597482925, 0.00950362749562789, 0.00950362749562789, 0.004751813747813945, 0.9741218183018587, 0.004751813747813945, 0.008553527415583264, 0.008553527415583264, 0.004276763707791632, 0.9793788890842837, 0.004276763707791632, 0.003593912811865542, 0.003593912811865542, 0.001796956405932771, 0.9901229796689568, 0.001796956405932771, 0.014512649568442731, 0.014512649568442731, 0.0072563247842213656, 0.9650911963014417, 0.0072563247842213656, 0.9712824744384132, 0.013584370271865919, 0.006792185135932959, 0.006792185135932959, 0.006792185135932959, 0.005948596717903861, 0.0029742983589519305, 0.984492756813089, 0.0029742983589519305, 0.0029742983589519305, 0.016898563065560555, 0.016898563065560555, 0.008449281532780278, 0.008449281532780278, 0.9547688132041714, 0.009481747491473645, 0.009481747491473645, 0.9766199916217854, 0.004740873745736823, 0.004740873745736823, 0.9826880285298165, 0.008021943090039318, 0.004010971545019659, 0.004010971545019659, 0.004010971545019659, 0.008073176508772277, 0.008073176508772277, 0.9808909458158317, 0.004036588254386139, 0.004036588254386139, 0.014297095235325139, 0.9650539283844468, 0.007148547617662569, 0.007148547617662569, 0.007148547617662569, 0.009584189280863836, 0.9775873066481112, 0.004792094640431918, 0.004792094640431918, 0.004792094640431918, 0.015106748216894408, 0.015106748216894408, 0.9592785117727949, 0.007553374108447204, 0.007553374108447204, 0.01248479987726072, 0.01248479987726072, 0.9675719904877058, 0.00624239993863036, 0.00624239993863036, 0.018726891183776823, 0.018726891183776823, 0.009363445591888411, 0.009363445591888411, 0.9550714503726179, 0.9886990444709393, 0.005447377655487268, 0.002723688827743634, 0.002723688827743634, 0.002723688827743634, 0.012136438825311954, 0.012136438825311954, 0.9648468866123003, 0.006068219412655977, 0.006068219412655977, 0.015133263409885746, 0.015133263409885746, 0.9609622265277449, 0.007566631704942873, 0.007566631704942873, 0.010258406143566788, 0.9694193805670616, 0.005129203071783394, 0.005129203071783394, 0.005129203071783394, 0.017670634403904532, 0.008835317201952266, 0.008835317201952266, 0.9542142578108447, 0.008835317201952266, 0.0028902816785806034, 0.0028902816785806034, 0.9928117565924373, 0.0014451408392903017, 0.0014451408392903017, 0.004674012171766912, 0.002337006085883456, 0.988553574328702, 0.002337006085883456, 0.002337006085883456, 0.005803390270997779, 0.9865763460696225, 0.0029016951354988896, 0.0029016951354988896, 0.0029016951354988896, 0.01170573053334284, 0.01170573053334284, 0.00585286526667142, 0.9715756342674556, 0.00585286526667142, 0.012736647125394285, 0.012736647125394285, 0.006368323562697143, 0.006368323562697143, 0.9679851815299657, 0.015653362176279995, 0.015653362176279995, 0.9626817738412198, 0.007826681088139997, 0.007826681088139997, 0.00472115198644174, 0.00236057599322087, 0.00236057599322087, 0.9890813411595445, 0.00236057599322087, 0.9800772615618024, 0.008597168961068442, 0.004298584480534221, 0.004298584480534221, 0.004298584480534221, 0.002801385904025932, 0.002801385904025932, 0.001400692952012966, 0.9930913029771928, 0.001400692952012966, 0.005948257001392626, 0.002974128500696313, 0.9844365337304796, 0.002974128500696313, 0.002974128500696313, 0.015597246851738545, 0.015597246851738545, 0.9592306813819205, 0.007798623425869272, 0.007798623425869272, 0.015963932987262276, 0.007981966493631138, 0.007981966493631138, 0.007981966493631138, 0.9578359792357365, 0.0081552464274711, 0.9827071945102677, 0.00407762321373555, 0.00407762321373555, 0.00407762321373555, 0.9792937797539122, 0.009891856361150628, 0.004945928180575314, 0.004945928180575314, 0.004945928180575314, 0.00881700944342001, 0.00881700944342001, 0.9786880482196212, 0.004408504721710005, 0.004408504721710005, 0.014416342017358074, 0.965894915162991, 0.007208171008679037, 0.007208171008679037, 0.007208171008679037, 0.9780913307100146, 0.004635503937014287, 0.004635503937014287, 0.004635503937014287, 0.004635503937014287, 0.0022169003755755454, 0.9953882686334199, 0.0011084501877877727, 0.0011084501877877727, 0.0011084501877877727, 0.011861347327692312, 0.9726304808707696, 0.005930673663846156, 0.005930673663846156, 0.005930673663846156, 0.014135471531773951, 0.014135471531773951, 0.007067735765886976, 0.007067735765886976, 0.9612120641606288, 0.007921124555053888, 0.007921124555053888, 0.003960562277526944, 0.9782588825491552, 0.003960562277526944, 0.9812438524707148, 0.004501118589315205, 0.004501118589315205, 0.004501118589315205, 0.004501118589315205, 0.0073718137382157356, 0.0073718137382157356, 0.0036859068691078678, 0.0036859068691078678, 0.9804512271826928, 0.9875239791180528, 0.005266794555296281, 0.0026333972776481406, 0.0026333972776481406, 0.0026333972776481406, 0.0137305539907487, 0.0137305539907487, 0.00686527699537435, 0.00686527699537435, 0.9680040563477833, 0.016118903429506518, 0.016118903429506518, 0.9590747540556377, 0.008059451714753259, 0.008059451714753259, 0.006444271372547101, 0.9859735199997065, 0.0032221356862735507, 0.0032221356862735507, 0.0032221356862735507, 0.012871222783931935, 0.012871222783931935, 0.9653417087948951, 0.006435611391965967, 0.006435611391965967, 0.015289195427408949, 0.015289195427408949, 0.9632193119267638, 0.007644597713704474, 0.007644597713704474, 0.008651838823024494, 0.008651838823024494, 0.004325919411512247, 0.977657787001768, 0.004325919411512247, 0.9847674662837839, 0.0034432428891041393, 0.0034432428891041393, 0.0034432428891041393, 0.0034432428891041393], \"Term\": [\"ac\", \"ac\", \"ac\", \"ac\", \"ac\", \"ada\", \"ada\", \"ada\", \"ada\", \"ada\", \"amazon\", \"amazon\", \"amazon\", \"amazon\", \"amazon\", \"amc\", \"amc\", \"amc\", \"amc\", \"amc\", \"amd\", \"amd\", \"amd\", \"amd\", \"amd\", \"america\", \"america\", \"america\", \"america\", \"america\", \"american\", \"american\", \"american\", \"american\", \"american\", \"anymore\", \"anymore\", \"anymore\", \"anymore\", \"anymore\", \"app\", \"app\", \"app\", \"app\", \"app\", \"april\", \"april\", \"april\", \"april\", \"april\", \"asking\", \"asking\", \"asking\", \"asking\", \"asking\", \"aso\", \"aso\", \"aso\", \"aso\", \"aso\", \"became\", \"became\", \"became\", \"became\", \"became\", \"binance\", \"binance\", \"binance\", \"binance\", \"binance\", \"bitcoin\", \"bitcoin\", \"bitcoin\", \"bitcoin\", \"bitcoin\", \"brings\", \"brings\", \"brings\", \"brings\", \"brings\", \"bro\", \"bro\", \"bro\", \"bro\", \"bro\", \"btc\", \"btc\", \"btc\", \"btc\", \"btc\", \"buying\", \"buying\", \"buying\", \"buying\", \"buying\", \"called\", \"called\", \"called\", \"called\", \"called\", \"camping\", \"camping\", \"camping\", \"camping\", \"camping\", \"cathie\", \"cathie\", \"cathie\", \"cathie\", \"cathie\", \"centralized\", \"centralized\", \"centralized\", \"centralized\", \"centralized\", \"changed\", \"changed\", \"changed\", \"changed\", \"changed\", \"cheaper\", \"cheaper\", \"cheaper\", \"cheaper\", \"cheaper\", \"checking\", \"checking\", \"checking\", \"checking\", \"checking\", \"coinbase\", \"coinbase\", \"coinbase\", \"coinbase\", \"coinbase\", \"congrats\", \"congrats\", \"congrats\", \"congrats\", \"congrats\", \"costco\", \"costco\", \"costco\", \"costco\", \"costco\", \"coworkers\", \"coworkers\", \"coworkers\", \"coworkers\", \"coworkers\", \"created\", \"created\", \"created\", \"created\", \"created\", \"crsr\", \"crsr\", \"crsr\", \"crsr\", \"crsr\", \"crypto\", \"crypto\", \"crypto\", \"crypto\", \"crypto\", \"cryptocurrency\", \"cryptocurrency\", \"cryptocurrency\", \"cryptocurrency\", \"cryptocurrency\", \"dd\", \"dd\", \"dd\", \"dd\", \"dd\", \"decentralized\", \"decentralized\", \"decentralized\", \"decentralized\", \"decentralized\", \"depends\", \"depends\", \"depends\", \"depends\", \"depends\", \"dogecoin\", \"dogecoin\", \"dogecoin\", \"dogecoin\", \"dogecoin\", \"dropped\", \"dropped\", \"dropped\", \"dropped\", \"dropped\", \"earlier\", \"earlier\", \"earlier\", \"earlier\", \"earlier\", \"earned\", \"earned\", \"earned\", \"earned\", \"earned\", \"ebay\", \"ebay\", \"ebay\", \"ebay\", \"ebay\", \"elon\", \"elon\", \"elon\", \"elon\", \"elon\", \"etc\", \"etc\", \"etc\", \"etc\", \"etc\", \"etf\", \"etf\", \"etf\", \"etf\", \"etf\", \"eth\", \"eth\", \"eth\", \"eth\", \"eth\", \"ethereum\", \"ethereum\", \"ethereum\", \"ethereum\", \"ethereum\", \"euro\", \"euro\", \"euro\", \"euro\", \"euro\", \"expecting\", \"expecting\", \"expecting\", \"expecting\", \"expecting\", \"facebook\", \"facebook\", \"facebook\", \"facebook\", \"facebook\", \"fomo\", \"fomo\", \"fomo\", \"fomo\", \"fomo\", \"fsly\", \"fsly\", \"fsly\", \"fsly\", \"fsly\", \"fuck\", \"fuck\", \"fuck\", \"fuck\", \"fuck\", \"fucked\", \"fucked\", \"fucked\", \"fucked\", \"fucked\", \"fucking\", \"fucking\", \"fucking\", \"fucking\", \"fucking\", \"gamestop\", \"gamestop\", \"gamestop\", \"gamestop\", \"gamestop\", \"gdp\", \"gdp\", \"gdp\", \"gdp\", \"gdp\", \"gme\", \"gme\", \"gme\", \"gme\", \"gme\", \"google\", \"google\", \"google\", \"google\", \"google\", \"guaranteed\", \"guaranteed\", \"guaranteed\", \"guaranteed\", \"guaranteed\", \"haha\", \"haha\", \"haha\", \"haha\", \"haha\", \"happened\", \"happened\", \"happened\", \"happened\", \"happened\", \"happens\", \"happens\", \"happens\", \"happens\", \"happens\", \"hcol\", \"hcol\", \"hcol\", \"hcol\", \"hcol\", \"healthcare\", \"healthcare\", \"healthcare\", \"healthcare\", \"healthcare\", \"heard\", \"heard\", \"heard\", \"heard\", \"heard\", \"held\", \"held\", \"held\", \"held\", \"held\", \"hitting\", \"hitting\", \"hitting\", \"hitting\", \"hitting\", \"hodl\", \"hodl\", \"hodl\", \"hodl\", \"hodl\", \"hodling\", \"hodling\", \"hodling\", \"hodling\", \"hodling\", \"hoping\", \"hoping\", \"hoping\", \"hoping\", \"hoping\", \"hype\", \"hype\", \"hype\", \"hype\", \"hype\", \"including\", \"including\", \"including\", \"including\", \"including\", \"info\", \"info\", \"info\", \"info\", \"info\", \"invested\", \"invested\", \"invested\", \"invested\", \"invested\", \"investing\", \"investing\", \"investing\", \"investing\", \"investing\", \"ira\", \"ira\", \"ira\", \"ira\", \"ira\", \"january\", \"january\", \"january\", \"january\", \"january\", \"kid\", \"kid\", \"kid\", \"kid\", \"kid\", \"lambo\", \"lambo\", \"lambo\", \"lambo\", \"lambo\", \"laptop\", \"laptop\", \"laptop\", \"laptop\", \"laptop\", \"larger\", \"larger\", \"larger\", \"larger\", \"larger\", \"le\", \"le\", \"le\", \"le\", \"le\", \"lifestyle\", \"lifestyle\", \"lifestyle\", \"lifestyle\", \"lifestyle\", \"lmao\", \"lmao\", \"lmao\", \"lmao\", \"lmao\", \"lol\", \"lol\", \"lol\", \"lol\", \"lol\", \"looked\", \"looked\", \"looked\", \"looked\", \"looked\", \"loses\", \"loses\", \"loses\", \"loses\", \"loses\", \"loved\", \"loved\", \"loved\", \"loved\", \"loved\", \"ltc\", \"ltc\", \"ltc\", \"ltc\", \"ltc\", \"managed\", \"managed\", \"managed\", \"managed\", \"managed\", \"marketplace\", \"marketplace\", \"marketplace\", \"marketplace\", \"marketplace\", \"max\", \"max\", \"max\", \"max\", \"max\", \"meme\", \"meme\", \"meme\", \"meme\", \"meme\", \"mentioned\", \"mentioned\", \"mentioned\", \"mentioned\", \"mentioned\", \"missed\", \"missed\", \"missed\", \"missed\", \"missed\", \"mod\", \"mod\", \"mod\", \"mod\", \"mod\", \"mom\", \"mom\", \"mom\", \"mom\", \"mom\", \"moved\", \"moved\", \"moved\", \"moved\", \"moved\", \"mvis\", \"mvis\", \"mvis\", \"mvis\", \"mvis\", \"nano\", \"nano\", \"nano\", \"nano\", \"nano\", \"needed\", \"needed\", \"needed\", \"needed\", \"needed\", \"netflix\", \"netflix\", \"netflix\", \"netflix\", \"netflix\", \"nicer\", \"nicer\", \"nicer\", \"nicer\", \"nicer\", \"ok\", \"ok\", \"ok\", \"ok\", \"ok\", \"okay\", \"okay\", \"okay\", \"okay\", \"okay\", \"online\", \"online\", \"online\", \"online\", \"online\", \"op\", \"op\", \"op\", \"op\", \"op\", \"others\", \"others\", \"others\", \"others\", \"others\", \"owned\", \"owned\", \"owned\", \"owned\", \"owned\", \"owning\", \"owning\", \"owning\", \"owning\", \"owning\", \"paid\", \"paid\", \"paid\", \"paid\", \"paid\", \"passed\", \"passed\", \"passed\", \"passed\", \"passed\", \"planning\", \"planning\", \"planning\", \"planning\", \"planning\", \"playing\", \"playing\", \"playing\", \"playing\", \"playing\", \"pltr\", \"pltr\", \"pltr\", \"pltr\", \"pltr\", \"pretax\", \"pretax\", \"pretax\", \"pretax\", \"pretax\", \"programming\", \"programming\", \"programming\", \"programming\", \"programming\", \"proud\", \"proud\", \"proud\", \"proud\", \"proud\", \"pumping\", \"pumping\", \"pumping\", \"pumping\", \"pumping\", \"purchased\", \"purchased\", \"purchased\", \"purchased\", \"purchased\", \"putting\", \"putting\", \"putting\", \"putting\", \"putting\", \"ramen\", \"ramen\", \"ramen\", \"ramen\", \"ramen\", \"reddit\", \"reddit\", \"reddit\", \"reddit\", \"reddit\", \"requires\", \"requires\", \"requires\", \"requires\", \"requires\", \"rh\", \"rh\", \"rh\", \"rh\", \"rh\", \"rkt\", \"rkt\", \"rkt\", \"rkt\", \"rkt\", \"robinhood\", \"robinhood\", \"robinhood\", \"robinhood\", \"robinhood\", \"roth\", \"roth\", \"roth\", \"roth\", \"roth\", \"safemoon\", \"safemoon\", \"safemoon\", \"safemoon\", \"safemoon\", \"saturday\", \"saturday\", \"saturday\", \"saturday\", \"saturday\", \"scared\", \"scared\", \"scared\", \"scared\", \"scared\", \"seems\", \"seems\", \"seems\", \"seems\", \"seems\", \"sharing\", \"sharing\", \"sharing\", \"sharing\", \"sharing\", \"shit\", \"shit\", \"shit\", \"shit\", \"shit\", \"started\", \"started\", \"started\", \"started\", \"started\", \"staying\", \"staying\", \"staying\", \"staying\", \"staying\", \"subreddit\", \"subreddit\", \"subreddit\", \"subreddit\", \"subreddit\", \"surprised\", \"surprised\", \"surprised\", \"surprised\", \"surprised\", \"talked\", \"talked\", \"talked\", \"talked\", \"talked\", \"tesla\", \"tesla\", \"tesla\", \"tesla\", \"tesla\", \"uk\", \"uk\", \"uk\", \"uk\", \"uk\", \"usd\", \"usd\", \"usd\", \"usd\", \"usd\", \"using\", \"using\", \"using\", \"using\", \"using\", \"vtsax\", \"vtsax\", \"vtsax\", \"vtsax\", \"vtsax\", \"walmart\", \"walmart\", \"walmart\", \"walmart\", \"walmart\", \"wanted\", \"wanted\", \"wanted\", \"wanted\", \"wanted\", \"wsb\", \"wsb\", \"wsb\", \"wsb\", \"wsb\", \"wtf\", \"wtf\", \"wtf\", \"wtf\", \"wtf\", \"xb\", \"xb\", \"xb\", \"xb\", \"xb\", \"xrp\", \"xrp\", \"xrp\", \"xrp\", \"xrp\", \"yolo\", \"yolo\", \"yolo\", \"yolo\", \"yolo\", \"youtube\", \"youtube\", \"youtube\", \"youtube\", \"youtube\", \"yup\", \"yup\", \"yup\", \"yup\", \"yup\", \"\\u00a3\", \"\\u00a3\", \"\\u00a3\", \"\\u00a3\", \"\\u00a3\", \"\\ud83d\\ude02\", \"\\ud83d\\ude02\", \"\\ud83d\\ude02\", \"\\ud83d\\ude02\", \"\\ud83d\\ude02\", \"\\ud83d\\ude80\", \"\\ud83d\\ude80\", \"\\ud83d\\ude80\", \"\\ud83d\\ude80\", \"\\ud83d\\ude80\"]}, \"R\": 30, \"lambda.step\": 0.01, \"plot.opts\": {\"xlab\": \"PC1\", \"ylab\": \"PC2\"}, \"topic.order\": [4, 1, 3, 2, 5]};\n",
       "\n",
       "function LDAvis_load_lib(url, callback){\n",
       "  var s = document.createElement('script');\n",
       "  s.src = url;\n",
       "  s.async = true;\n",
       "  s.onreadystatechange = s.onload = callback;\n",
       "  s.onerror = function(){console.warn(\"failed to load library \" + url);};\n",
       "  document.getElementsByTagName(\"head\")[0].appendChild(s);\n",
       "}\n",
       "\n",
       "if(typeof(LDAvis) !== \"undefined\"){\n",
       "   // already loaded: just create the visualization\n",
       "   !function(LDAvis){\n",
       "       new LDAvis(\"#\" + \"ldavis_el391771399509359730726698235177\", ldavis_el391771399509359730726698235177_data);\n",
       "   }(LDAvis);\n",
       "}else if(typeof define === \"function\" && define.amd){\n",
       "   // require.js is available: use it to load d3/LDAvis\n",
       "   require.config({paths: {d3: \"https://d3js.org/d3.v5\"}});\n",
       "   require([\"d3\"], function(d3){\n",
       "      window.d3 = d3;\n",
       "      LDAvis_load_lib(\"https://cdn.jsdelivr.net/gh/bmabey/pyLDAvis/pyLDAvis/js/ldavis.v3.0.0.js\", function(){\n",
       "        new LDAvis(\"#\" + \"ldavis_el391771399509359730726698235177\", ldavis_el391771399509359730726698235177_data);\n",
       "      });\n",
       "    });\n",
       "}else{\n",
       "    // require.js not available: dynamically load d3 & LDAvis\n",
       "    LDAvis_load_lib(\"https://d3js.org/d3.v5.js\", function(){\n",
       "         LDAvis_load_lib(\"https://cdn.jsdelivr.net/gh/bmabey/pyLDAvis/pyLDAvis/js/ldavis.v3.0.0.js\", function(){\n",
       "                 new LDAvis(\"#\" + \"ldavis_el391771399509359730726698235177\", ldavis_el391771399509359730726698235177_data);\n",
       "            })\n",
       "         });\n",
       "}\n",
       "</script>"
      ],
      "text/plain": [
       "PreparedData(topic_coordinates=              x         y  topics  cluster       Freq\n",
       "topic                                                \n",
       "3      0.028872 -0.065991       1        1  24.030349\n",
       "0      0.033400 -0.061689       2        1  22.505203\n",
       "2      0.020421 -0.150770       3        1  18.303776\n",
       "1     -0.233692  0.090986       4        1  18.123605\n",
       "4      0.150999  0.187465       5        1  17.037068, topic_info=           Term         Freq        Total Category  logprob  loglift\n",
       "77          lol  2608.000000  2608.000000  Default  30.0000  30.0000\n",
       "183      crypto  1392.000000  1392.000000  Default  29.0000  29.0000\n",
       "170         eth  1229.000000  1229.000000  Default  28.0000  28.0000\n",
       "1093        gme  1512.000000  1512.000000  Default  27.0000  27.0000\n",
       "176         etc  1162.000000  1162.000000  Default  26.0000  26.0000\n",
       "...         ...          ...          ...      ...      ...      ...\n",
       "31    purchased   101.683982   106.798292   Topic5  -5.3586   1.7207\n",
       "4954         ac    96.619996   101.801372   Topic5  -5.4097   1.7175\n",
       "3038      loses    95.880964   101.031285   Topic5  -5.4174   1.7175\n",
       "4281      april    92.259041    97.398577   Topic5  -5.4559   1.7156\n",
       "2670       ebay    92.923436    98.224835   Topic5  -5.4487   1.7143\n",
       "\n",
       "[187 rows x 6 columns], token_table=      Topic      Freq Term\n",
       "term                      \n",
       "4954      1  0.019646   ac\n",
       "4954      2  0.019646   ac\n",
       "4954      3  0.009823   ac\n",
       "4954      4  0.009823   ac\n",
       "4954      5  0.952836   ac\n",
       "...     ...       ...  ...\n",
       "1838      1  0.984767    🚀\n",
       "1838      2  0.003443    🚀\n",
       "1838      3  0.003443    🚀\n",
       "1838      4  0.003443    🚀\n",
       "1838      5  0.003443    🚀\n",
       "\n",
       "[785 rows x 3 columns], R=30, lambda_step=0.01, plot_opts={'xlab': 'PC1', 'ylab': 'PC2'}, topic_order=[4, 1, 3, 2, 5])"
      ]
     },
     "execution_count": 45,
     "metadata": {},
     "output_type": "execute_result"
    }
   ],
   "source": [
    "# Visualize the topics\n",
    "pyLDAvis.enable_notebook()\n",
    "vis = pyLDAvis.gensim.prepare(model, corpus.gensim_corpus, corpus.gensim_dictionary)\n",
    "vis"
   ]
  },
  {
   "cell_type": "code",
   "execution_count": 58,
   "metadata": {},
   "outputs": [],
   "source": [
    "pyLDAvis.save_html(vis,'../img/lda_vis.html')"
   ]
  }
 ],
 "metadata": {
  "kernelspec": {
   "display_name": "Python 3.7.7 64-bit ('base': conda)",
   "language": "python",
   "name": "python377jvsc74a57bd0448eea69390e87439a5333a90a303e7024d2ba171b1cfbbf9a993ee52ea35a5d"
  },
  "language_info": {
   "codemirror_mode": {
    "name": "ipython",
    "version": 3
   },
   "file_extension": ".py",
   "mimetype": "text/x-python",
   "name": "python",
   "nbconvert_exporter": "python",
   "pygments_lexer": "ipython3",
   "version": "3.7.7"
  },
  "metadata": {
   "interpreter": {
    "hash": "448eea69390e87439a5333a90a303e7024d2ba171b1cfbbf9a993ee52ea35a5d"
   }
  }
 },
 "nbformat": 4,
 "nbformat_minor": 2
}
